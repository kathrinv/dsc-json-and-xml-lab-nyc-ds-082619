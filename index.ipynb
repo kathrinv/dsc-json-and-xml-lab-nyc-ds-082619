{
 "cells": [
  {
   "cell_type": "markdown",
   "metadata": {},
   "source": [
    "# JSON and XML - Lab"
   ]
  },
  {
   "cell_type": "markdown",
   "metadata": {},
   "source": [
    "## Introduction\n",
    "\n",
    "In this lab, you'll practice navigating JSON and XML data structures."
   ]
  },
  {
   "cell_type": "markdown",
   "metadata": {},
   "source": [
    "## Objectives\n",
    "You will be able to:\n",
    "* Effectively use the JSON module to load and parse JSON documents\n",
    "* Read and access data stored in JSON and XML\n",
    "* Compare  and contrast the JSON and XML as data interchange types\n"
   ]
  },
  {
   "cell_type": "markdown",
   "metadata": {},
   "source": [
    "## XML"
   ]
  },
  {
   "cell_type": "code",
   "execution_count": 1,
   "metadata": {},
   "outputs": [],
   "source": [
    "# import xml.etree.ElementTree as ET\n",
    "import xml.etree.ElementTree as ET"
   ]
  },
  {
   "cell_type": "markdown",
   "metadata": {},
   "source": [
    "### Create an XML tree and retrieve the root tag."
   ]
  },
  {
   "cell_type": "code",
   "execution_count": 2,
   "metadata": {},
   "outputs": [],
   "source": [
    "#Your code here\n",
    "tree = ET.parse('nyc_2001_campaign_finance.xml')\n",
    "root = tree.getroot()"
   ]
  },
  {
   "cell_type": "markdown",
   "metadata": {},
   "source": [
    "### How many direct descendents does the root tag have?"
   ]
  },
  {
   "cell_type": "code",
   "execution_count": 3,
   "metadata": {},
   "outputs": [
    {
     "name": "stdout",
     "output_type": "stream",
     "text": [
      "<Element 'row' at 0x7fdc080bb368>\n",
      "1\n"
     ]
    }
   ],
   "source": [
    "#Answer: 1\n",
    "for child in root:\n",
    "    print(child)\n",
    "print(len(root))"
   ]
  },
  {
   "cell_type": "markdown",
   "metadata": {},
   "source": [
    "### How many different types of tags are there within the entire XML file?"
   ]
  },
  {
   "cell_type": "code",
   "execution_count": 4,
   "metadata": {},
   "outputs": [
    {
     "name": "stdout",
     "output_type": "stream",
     "text": [
      "row {}\n"
     ]
    }
   ],
   "source": [
    "# Your code here\n",
    "for child in root:\n",
    "    print(child.tag, child.attrib)"
   ]
  },
  {
   "cell_type": "code",
   "execution_count": 5,
   "metadata": {},
   "outputs": [
    {
     "name": "stdout",
     "output_type": "stream",
     "text": [
      "response {}\n",
      "row {}\n",
      "row {'_id': '1', '_uuid': 'E3E9CC9F-7443-43F6-94AF-B5A0F802DBA1', '_position': '1', '_address': 'https://data.cityofnewyork.us/resource/_8dhd-zvi6/1'}\n",
      "candid {}\n",
      "candname {}\n",
      "officeboro {}\n",
      "canclass {}\n",
      "row {'_id': '2', '_uuid': '9D257416-581A-4C42-85CC-B6EAD9DED97F', '_position': '2', '_address': 'https://data.cityofnewyork.us/resource/_8dhd-zvi6/2'}\n",
      "election {}\n"
     ]
    }
   ],
   "source": [
    "count = 0\n",
    "for element in root.iter():\n",
    "    count += 1\n",
    "    if count < 10:\n",
    "        print(element.tag, element.attrib)"
   ]
  },
  {
   "cell_type": "markdown",
   "metadata": {},
   "source": [
    "### Create a DataFrame listing the number of each type of tag. \n",
    "Sort the DataFrame in descending order by the tag count. The first entry should demonstrate there are 286 row tags in the XML file.   \n",
    "(Your DataFrame will be a single column, so could also be thought of as a Series.)"
   ]
  },
  {
   "cell_type": "code",
   "execution_count": 7,
   "metadata": {},
   "outputs": [],
   "source": [
    "import pandas as pd"
   ]
  },
  {
   "cell_type": "code",
   "execution_count": 9,
   "metadata": {},
   "outputs": [
    {
     "data": {
      "text/html": [
       "<div>\n",
       "<style scoped>\n",
       "    .dataframe tbody tr th:only-of-type {\n",
       "        vertical-align: middle;\n",
       "    }\n",
       "\n",
       "    .dataframe tbody tr th {\n",
       "        vertical-align: top;\n",
       "    }\n",
       "\n",
       "    .dataframe thead th {\n",
       "        text-align: right;\n",
       "    }\n",
       "</style>\n",
       "<table border=\"1\" class=\"dataframe\">\n",
       "  <thead>\n",
       "    <tr style=\"text-align: right;\">\n",
       "      <th></th>\n",
       "      <th>_id</th>\n",
       "      <th>_uuid</th>\n",
       "      <th>_position</th>\n",
       "      <th>_address</th>\n",
       "    </tr>\n",
       "  </thead>\n",
       "  <tbody>\n",
       "    <tr>\n",
       "      <th>0</th>\n",
       "      <td>1</td>\n",
       "      <td>E3E9CC9F-7443-43F6-94AF-B5A0F802DBA1</td>\n",
       "      <td>1</td>\n",
       "      <td>https://data.cityofnewyork.us/resource/_8dhd-z...</td>\n",
       "    </tr>\n",
       "    <tr>\n",
       "      <th>0</th>\n",
       "      <td>2</td>\n",
       "      <td>9D257416-581A-4C42-85CC-B6EAD9DED97F</td>\n",
       "      <td>2</td>\n",
       "      <td>https://data.cityofnewyork.us/resource/_8dhd-z...</td>\n",
       "    </tr>\n",
       "    <tr>\n",
       "      <th>0</th>\n",
       "      <td>3</td>\n",
       "      <td>B80D7891-93CF-49E8-86E8-182B618E68F2</td>\n",
       "      <td>3</td>\n",
       "      <td>https://data.cityofnewyork.us/resource/_8dhd-z...</td>\n",
       "    </tr>\n",
       "    <tr>\n",
       "      <th>0</th>\n",
       "      <td>4</td>\n",
       "      <td>BB012003-78F5-406D-8A87-7FF8A425EE3F</td>\n",
       "      <td>4</td>\n",
       "      <td>https://data.cityofnewyork.us/resource/_8dhd-z...</td>\n",
       "    </tr>\n",
       "    <tr>\n",
       "      <th>0</th>\n",
       "      <td>5</td>\n",
       "      <td>945825F9-2F5D-47C2-A16B-75B93E61E1AD</td>\n",
       "      <td>5</td>\n",
       "      <td>https://data.cityofnewyork.us/resource/_8dhd-z...</td>\n",
       "    </tr>\n",
       "  </tbody>\n",
       "</table>\n",
       "</div>"
      ],
      "text/plain": [
       "  _id                                 _uuid _position  \\\n",
       "0   1  E3E9CC9F-7443-43F6-94AF-B5A0F802DBA1         1   \n",
       "0   2  9D257416-581A-4C42-85CC-B6EAD9DED97F         2   \n",
       "0   3  B80D7891-93CF-49E8-86E8-182B618E68F2         3   \n",
       "0   4  BB012003-78F5-406D-8A87-7FF8A425EE3F         4   \n",
       "0   5  945825F9-2F5D-47C2-A16B-75B93E61E1AD         5   \n",
       "\n",
       "                                            _address  \n",
       "0  https://data.cityofnewyork.us/resource/_8dhd-z...  \n",
       "0  https://data.cityofnewyork.us/resource/_8dhd-z...  \n",
       "0  https://data.cityofnewyork.us/resource/_8dhd-z...  \n",
       "0  https://data.cityofnewyork.us/resource/_8dhd-z...  \n",
       "0  https://data.cityofnewyork.us/resource/_8dhd-z...  "
      ]
     },
     "execution_count": 9,
     "metadata": {},
     "output_type": "execute_result"
    }
   ],
   "source": [
    "dfs = []\n",
    "for n, element in enumerate(root.iter()):\n",
    "    if n>0:\n",
    "        dfs.append(pd.DataFrame.from_dict(element.attrib, orient='Index').transpose())\n",
    "\n",
    "\n",
    "df = pd.concat(dfs)\n",
    "df.head()"
   ]
  },
  {
   "cell_type": "markdown",
   "metadata": {},
   "source": [
    "## JSON"
   ]
  },
  {
   "cell_type": "markdown",
   "metadata": {},
   "source": [
    "### Open the same dataset from json"
   ]
  },
  {
   "cell_type": "code",
   "execution_count": 12,
   "metadata": {},
   "outputs": [
    {
     "data": {
      "text/plain": [
       "dict"
      ]
     },
     "execution_count": 12,
     "metadata": {},
     "output_type": "execute_result"
    }
   ],
   "source": [
    "#Your code here\n",
    "import json\n",
    "f = open('nyc_2001_campaign_finance.json')\n",
    "data = json.load(f)\n",
    "type(data)"
   ]
  },
  {
   "cell_type": "markdown",
   "metadata": {},
   "source": [
    "### What is the root data type of the json file?"
   ]
  },
  {
   "cell_type": "code",
   "execution_count": 13,
   "metadata": {},
   "outputs": [
    {
     "data": {
      "text/plain": [
       "dict"
      ]
     },
     "execution_count": 13,
     "metadata": {},
     "output_type": "execute_result"
    }
   ],
   "source": [
    "type(data)"
   ]
  },
  {
   "cell_type": "markdown",
   "metadata": {},
   "source": [
    "### Navigate to the 'data' key of your loaded json object. What data type is this?"
   ]
  },
  {
   "cell_type": "code",
   "execution_count": 21,
   "metadata": {},
   "outputs": [
    {
     "name": "stdout",
     "output_type": "stream",
     "text": [
      "dict_keys(['meta', 'data'])\n",
      "<class 'list'>\n"
     ]
    }
   ],
   "source": [
    "print(data.keys())\n",
    "print(type(data['data']))"
   ]
  },
  {
   "cell_type": "markdown",
   "metadata": {},
   "source": [
    "### Preview the first entry from the value returned by the 'data' key above."
   ]
  },
  {
   "cell_type": "code",
   "execution_count": 31,
   "metadata": {},
   "outputs": [
    {
     "name": "stdout",
     "output_type": "stream",
     "text": [
      "[1, 'E3E9CC9F-7443-43F6-94AF-B5A0F802DBA1', 1, 1315925633, '392904', 1315925633, '392904', '{\\n  \"invalidCells\" : {\\n    \"1519001\" : \"TOTALPAY\",\\n    \"1518998\" : \"PRIMARYPAY\",\\n    \"1519000\" : \"RUNOFFPAY\",\\n    \"1518999\" : \"GENERALPAY\",\\n    \"1518994\" : \"OFFICECD\",\\n    \"1518996\" : \"OFFICEDIST\",\\n    \"1518991\" : \"ELECTION\"\\n  }\\n}', None, 'CANDID', 'CANDNAME', None, 'OFFICEBORO', None, 'CANCLASS', None, None, None, None]\n",
      "19\n"
     ]
    }
   ],
   "source": [
    "print(data['data'][0])\n",
    "print(len(data['data'][0]))"
   ]
  },
  {
   "cell_type": "markdown",
   "metadata": {},
   "source": [
    "### Preview the Entry under meta -> view -> columns (the keys of three successively nested dictionaries)"
   ]
  },
  {
   "cell_type": "code",
   "execution_count": 54,
   "metadata": {},
   "outputs": [
    {
     "name": "stdout",
     "output_type": "stream",
     "text": [
      "dict_keys(['view'])\n",
      "dict_keys(['id', 'name', 'attribution', 'averageRating', 'category', 'createdAt', 'description', 'displayType', 'downloadCount', 'hideFromCatalog', 'hideFromDataJson', 'indexUpdatedAt', 'newBackend', 'numberOfComments', 'oid', 'provenance', 'publicationAppendEnabled', 'publicationDate', 'publicationGroup', 'publicationStage', 'rowClass', 'rowsUpdatedAt', 'rowsUpdatedBy', 'tableId', 'totalTimesRated', 'viewCount', 'viewLastModified', 'viewType', 'columns', 'grants', 'metadata', 'owner', 'query', 'rights', 'tableAuthor', 'tags', 'flags'])\n",
      "\n",
      "[{'id': -1, 'name': 'sid', 'dataTypeName': 'meta_data', 'fieldName': ':sid', 'position': 0, 'renderTypeName': 'meta_data', 'format': {}, 'flags': ['hidden']}, {'id': -1, 'name': 'id', 'dataTypeName': 'meta_data', 'fieldName': ':id', 'position': 0, 'renderTypeName': 'meta_data', 'format': {}, 'flags': ['hidden']}, {'id': -1, 'name': 'position', 'dataTypeName': 'meta_data', 'fieldName': ':position', 'position': 0, 'renderTypeName': 'meta_data', 'format': {}, 'flags': ['hidden']}, {'id': -1, 'name': 'created_at', 'dataTypeName': 'meta_data', 'fieldName': ':created_at', 'position': 0, 'renderTypeName': 'meta_data', 'format': {}, 'flags': ['hidden']}, {'id': -1, 'name': 'created_meta', 'dataTypeName': 'meta_data', 'fieldName': ':created_meta', 'position': 0, 'renderTypeName': 'meta_data', 'format': {}, 'flags': ['hidden']}, {'id': -1, 'name': 'updated_at', 'dataTypeName': 'meta_data', 'fieldName': ':updated_at', 'position': 0, 'renderTypeName': 'meta_data', 'format': {}, 'flags': ['hidden']}, {'id': -1, 'name': 'updated_meta', 'dataTypeName': 'meta_data', 'fieldName': ':updated_meta', 'position': 0, 'renderTypeName': 'meta_data', 'format': {}, 'flags': ['hidden']}, {'id': -1, 'name': 'meta', 'dataTypeName': 'meta_data', 'fieldName': ':meta', 'position': 0, 'renderTypeName': 'meta_data', 'format': {}, 'flags': ['hidden']}, {'id': 75768833, 'name': 'ELECTION', 'dataTypeName': 'number', 'fieldName': 'election', 'position': 2, 'renderTypeName': 'number', 'tableColumnId': 1518991, 'width': 196, 'cachedContents': {'non_null': 284, 'average': '2001', 'largest': '2001', 'null': 1, 'top': [{'item': '2001', 'count': 20}], 'smallest': '2001', 'sum': '568284'}, 'format': {'precisionStyle': 'standard', 'noCommas': 'true', 'align': 'right'}}, {'id': 75768834, 'name': 'CANDID', 'dataTypeName': 'text', 'fieldName': 'candid', 'position': 3, 'renderTypeName': 'text', 'tableColumnId': 1518992, 'width': 172, 'cachedContents': {'non_null': 285, 'largest': 'YA', 'null': 0, 'top': [{'item': '490', 'count': 20}, {'item': '577', 'count': 19}, {'item': 'GF', 'count': 18}, {'item': '265', 'count': 17}, {'item': '549', 'count': 16}, {'item': '260', 'count': 15}, {'item': 'DH', 'count': 14}, {'item': '168', 'count': 13}, {'item': '561', 'count': 12}, {'item': '317', 'count': 11}, {'item': '240', 'count': 10}, {'item': 'B1', 'count': 9}, {'item': '337', 'count': 8}, {'item': '202', 'count': 7}, {'item': 'DP', 'count': 6}, {'item': '554', 'count': 5}, {'item': '529', 'count': 4}, {'item': '521', 'count': 3}, {'item': 'CY', 'count': 2}, {'item': '327', 'count': 1}], 'smallest': '148'}, 'format': {}}, {'id': 75768835, 'name': 'CANDNAME', 'dataTypeName': 'text', 'fieldName': 'candname', 'position': 4, 'renderTypeName': 'text', 'tableColumnId': 1518993, 'width': 196, 'cachedContents': {'non_null': 285, 'largest': 'Zett, Lori M', 'null': 0, 'top': [{'item': 'Taitt, Samuel A', 'count': 20}, {'item': 'Taliaferro, Phyllis', 'count': 19}, {'item': 'Taveras, Germania', 'count': 18}, {'item': 'Thakral, Jairam D', 'count': 17}, {'item': 'Thomas, Carl W', 'count': 16}, {'item': 'Thompson, Jr., William C', 'count': 15}, {'item': 'Tiraco, Joseph E', 'count': 14}, {'item': 'Toney, Vaughan', 'count': 13}, {'item': 'Toppin, Roger N', 'count': 12}, {'item': 'Torres, Mario A', 'count': 11}, {'item': 'Vallone, Jr., Peter F', 'count': 10}, {'item': 'Vallone, Peter F', 'count': 9}, {'item': 'Van Bramer, James G', 'count': 8}, {'item': 'Vann, Albert', 'count': 7}, {'item': 'Vargas, Ruben Dario', 'count': 6}, {'item': 'Vassos, Sandra', 'count': 5}, {'item': 'Vernet, Jean D', 'count': 4}, {'item': 'Viest, Nicholas D', 'count': 3}, {'item': 'Villaverde, Sergio', 'count': 2}, {'item': 'Vogel, Mark H', 'count': 1}], 'smallest': 'Aboulafia, Sandy'}, 'format': {}}, {'id': 75768836, 'name': 'OFFICECD', 'dataTypeName': 'number', 'fieldName': 'officecd', 'position': 5, 'renderTypeName': 'number', 'tableColumnId': 1518994, 'width': 196, 'cachedContents': {'non_null': 284, 'average': '4.700704225352113', 'largest': '5', 'null': 1, 'top': [{'item': '5', 'count': 20}, {'item': '1', 'count': 19}, {'item': '3', 'count': 18}, {'item': '4', 'count': 17}, {'item': '2', 'count': 16}], 'smallest': '1', 'sum': '1335'}, 'format': {}}, {'id': 75768837, 'name': 'OFFICEBORO', 'dataTypeName': 'text', 'fieldName': 'officeboro', 'position': 6, 'renderTypeName': 'text', 'tableColumnId': 1518995, 'width': 220, 'cachedContents': {'non_null': 21, 'largest': 'X', 'null': 264, 'top': [{'item': 'OFFICEBORO', 'count': 20}, {'item': 'X', 'count': 19}, {'item': 'M', 'count': 18}, {'item': 'K', 'count': 17}, {'item': 'Q', 'count': 16}, {'item': 'S', 'count': 15}], 'smallest': 'K'}, 'format': {}}, {'id': 75768838, 'name': 'OFFICEDIST', 'dataTypeName': 'number', 'fieldName': 'officedist', 'position': 7, 'renderTypeName': 'number', 'tableColumnId': 1518996, 'width': 220, 'cachedContents': {'non_null': 245, 'average': '26.33061224489796', 'largest': '51', 'null': 40, 'top': [{'item': '7', 'count': 20}, {'item': '32', 'count': 19}, {'item': '37', 'count': 18}, {'item': '28', 'count': 17}, {'item': '19', 'count': 16}, {'item': '39', 'count': 15}, {'item': '35', 'count': 14}, {'item': '42', 'count': 13}, {'item': '31', 'count': 12}, {'item': '6', 'count': 11}, {'item': '47', 'count': 10}, {'item': '20', 'count': 9}, {'item': '1', 'count': 8}, {'item': '27', 'count': 7}, {'item': '26', 'count': 6}, {'item': '10', 'count': 5}, {'item': '34', 'count': 4}, {'item': '45', 'count': 3}, {'item': '40', 'count': 2}, {'item': '12', 'count': 1}], 'smallest': '1', 'sum': '6451'}, 'format': {}}, {'id': 75768839, 'name': 'CANCLASS', 'dataTypeName': 'text', 'fieldName': 'canclass', 'position': 8, 'renderTypeName': 'text', 'tableColumnId': 1518997, 'width': 196, 'cachedContents': {'non_null': 285, 'largest': 'P', 'null': 0, 'top': [{'item': 'CANCLASS', 'count': 20}, {'item': 'P', 'count': 19}], 'smallest': 'CANCLASS'}, 'format': {}}, {'id': 75768840, 'name': 'PRIMARYPAY', 'dataTypeName': 'number', 'fieldName': 'primarypay', 'position': 9, 'renderTypeName': 'number', 'tableColumnId': 1518998, 'width': 220, 'cachedContents': {'non_null': 284, 'average': '112243.9612676056', 'largest': '2846148.00', 'null': 1, 'top': [{'item': '75350.00', 'count': 20}, {'item': '0', 'count': 19}, {'item': '91333.00', 'count': 18}, {'item': '69780.00', 'count': 17}, {'item': '22172.00', 'count': 16}, {'item': '65356.00', 'count': 15}, {'item': '11423.00', 'count': 14}, {'item': '60152.00', 'count': 13}, {'item': '75040.00', 'count': 12}, {'item': '62436.00', 'count': 11}, {'item': '42075.00', 'count': 10}, {'item': '74920.00', 'count': 9}, {'item': '38088.00', 'count': 8}, {'item': '74850.00', 'count': 7}, {'item': '89502.00', 'count': 6}, {'item': '74350.00', 'count': 5}, {'item': '58348.00', 'count': 4}, {'item': '55100.00', 'count': 3}, {'item': '508893.00', 'count': 2}, {'item': '74750.00', 'count': 1}], 'smallest': '0', 'sum': '31877285.00'}, 'format': {}}, {'id': 75768841, 'name': 'GENERALPAY', 'dataTypeName': 'number', 'fieldName': 'generalpay', 'position': 10, 'renderTypeName': 'number', 'tableColumnId': 1518999, 'width': 220, 'cachedContents': {'non_null': 284, 'average': '28753.57394366197', 'largest': '976545.00', 'null': 1, 'top': [{'item': '0', 'count': 20}, {'item': '75350.00', 'count': 19}, {'item': '201131.00', 'count': 18}, {'item': '39760.00', 'count': 17}, {'item': '57796.00', 'count': 16}, {'item': '75200.00', 'count': 15}, {'item': '68234.00', 'count': 14}, {'item': '5732.00', 'count': 13}, {'item': '58488.00', 'count': 12}, {'item': '62184.00', 'count': 11}, {'item': '44748.00', 'count': 10}, {'item': '21946.00', 'count': 9}, {'item': '70500.00', 'count': 8}], 'smallest': '0', 'sum': '8166015.00'}, 'format': {}}, {'id': 75768842, 'name': 'RUNOFFPAY', 'dataTypeName': 'number', 'fieldName': 'runoffpay', 'position': 11, 'renderTypeName': 'number', 'tableColumnId': 1519000, 'width': 208, 'cachedContents': {'non_null': 284, 'average': '7776.778169014085', 'largest': '711537.00', 'null': 1, 'top': [{'item': '0', 'count': 20}, {'item': '267331.00', 'count': 19}, {'item': '574387.00', 'count': 18}, {'item': '303270.00', 'count': 17}, {'item': '711537.00', 'count': 16}, {'item': '114407.00', 'count': 15}, {'item': '237673.00', 'count': 14}], 'smallest': '0', 'sum': '2208605.00'}, 'format': {}}, {'id': 75768843, 'name': 'TOTALPAY', 'dataTypeName': 'number', 'fieldName': 'totalpay', 'position': 12, 'renderTypeName': 'number', 'tableColumnId': 1519001, 'width': 196, 'cachedContents': {'non_null': 284, 'average': '148774.3133802817', 'largest': '4534230.00', 'null': 1, 'top': [{'item': '0', 'count': 20}, {'item': '75350.00', 'count': 19}, {'item': '150700.00', 'count': 18}, {'item': '2458534.00', 'count': 17}, {'item': '133146.00', 'count': 16}, {'item': '75200.00', 'count': 15}, {'item': '68234.00', 'count': 14}, {'item': '70664.00', 'count': 13}, {'item': '58488.00', 'count': 12}, {'item': '50112.00', 'count': 11}, {'item': '62184.00', 'count': 10}, {'item': '44748.00', 'count': 9}, {'item': '21946.00', 'count': 8}, {'item': '41656.00', 'count': 7}, {'item': '61260.00', 'count': 6}, {'item': '145850.00', 'count': 5}, {'item': '35808.00', 'count': 4}, {'item': '12172.00', 'count': 3}], 'smallest': '0', 'sum': '42251905.00'}, 'format': {}}]\n",
      "{'id': -1, 'name': 'sid', 'dataTypeName': 'meta_data', 'fieldName': ':sid', 'position': 0, 'renderTypeName': 'meta_data', 'format': {}, 'flags': ['hidden']}\n",
      "{'id': -1, 'name': 'id', 'dataTypeName': 'meta_data', 'fieldName': ':id', 'position': 0, 'renderTypeName': 'meta_data', 'format': {}, 'flags': ['hidden']}\n",
      "{'id': -1, 'name': 'position', 'dataTypeName': 'meta_data', 'fieldName': ':position', 'position': 0, 'renderTypeName': 'meta_data', 'format': {}, 'flags': ['hidden']}\n",
      "{'id': -1, 'name': 'created_at', 'dataTypeName': 'meta_data', 'fieldName': ':created_at', 'position': 0, 'renderTypeName': 'meta_data', 'format': {}, 'flags': ['hidden']}\n",
      "{'id': -1, 'name': 'created_meta', 'dataTypeName': 'meta_data', 'fieldName': ':created_meta', 'position': 0, 'renderTypeName': 'meta_data', 'format': {}, 'flags': ['hidden']}\n",
      "{'id': -1, 'name': 'updated_at', 'dataTypeName': 'meta_data', 'fieldName': ':updated_at', 'position': 0, 'renderTypeName': 'meta_data', 'format': {}, 'flags': ['hidden']}\n",
      "{'id': -1, 'name': 'updated_meta', 'dataTypeName': 'meta_data', 'fieldName': ':updated_meta', 'position': 0, 'renderTypeName': 'meta_data', 'format': {}, 'flags': ['hidden']}\n",
      "{'id': -1, 'name': 'meta', 'dataTypeName': 'meta_data', 'fieldName': ':meta', 'position': 0, 'renderTypeName': 'meta_data', 'format': {}, 'flags': ['hidden']}\n",
      "{'id': 75768833, 'name': 'ELECTION', 'dataTypeName': 'number', 'fieldName': 'election', 'position': 2, 'renderTypeName': 'number', 'tableColumnId': 1518991, 'width': 196, 'cachedContents': {'non_null': 284, 'average': '2001', 'largest': '2001', 'null': 1, 'top': [{'item': '2001', 'count': 20}], 'smallest': '2001', 'sum': '568284'}, 'format': {'precisionStyle': 'standard', 'noCommas': 'true', 'align': 'right'}}\n",
      "{'id': 75768834, 'name': 'CANDID', 'dataTypeName': 'text', 'fieldName': 'candid', 'position': 3, 'renderTypeName': 'text', 'tableColumnId': 1518992, 'width': 172, 'cachedContents': {'non_null': 285, 'largest': 'YA', 'null': 0, 'top': [{'item': '490', 'count': 20}, {'item': '577', 'count': 19}, {'item': 'GF', 'count': 18}, {'item': '265', 'count': 17}, {'item': '549', 'count': 16}, {'item': '260', 'count': 15}, {'item': 'DH', 'count': 14}, {'item': '168', 'count': 13}, {'item': '561', 'count': 12}, {'item': '317', 'count': 11}, {'item': '240', 'count': 10}, {'item': 'B1', 'count': 9}, {'item': '337', 'count': 8}, {'item': '202', 'count': 7}, {'item': 'DP', 'count': 6}, {'item': '554', 'count': 5}, {'item': '529', 'count': 4}, {'item': '521', 'count': 3}, {'item': 'CY', 'count': 2}, {'item': '327', 'count': 1}], 'smallest': '148'}, 'format': {}}\n",
      "{'id': 75768835, 'name': 'CANDNAME', 'dataTypeName': 'text', 'fieldName': 'candname', 'position': 4, 'renderTypeName': 'text', 'tableColumnId': 1518993, 'width': 196, 'cachedContents': {'non_null': 285, 'largest': 'Zett, Lori M', 'null': 0, 'top': [{'item': 'Taitt, Samuel A', 'count': 20}, {'item': 'Taliaferro, Phyllis', 'count': 19}, {'item': 'Taveras, Germania', 'count': 18}, {'item': 'Thakral, Jairam D', 'count': 17}, {'item': 'Thomas, Carl W', 'count': 16}, {'item': 'Thompson, Jr., William C', 'count': 15}, {'item': 'Tiraco, Joseph E', 'count': 14}, {'item': 'Toney, Vaughan', 'count': 13}, {'item': 'Toppin, Roger N', 'count': 12}, {'item': 'Torres, Mario A', 'count': 11}, {'item': 'Vallone, Jr., Peter F', 'count': 10}, {'item': 'Vallone, Peter F', 'count': 9}, {'item': 'Van Bramer, James G', 'count': 8}, {'item': 'Vann, Albert', 'count': 7}, {'item': 'Vargas, Ruben Dario', 'count': 6}, {'item': 'Vassos, Sandra', 'count': 5}, {'item': 'Vernet, Jean D', 'count': 4}, {'item': 'Viest, Nicholas D', 'count': 3}, {'item': 'Villaverde, Sergio', 'count': 2}, {'item': 'Vogel, Mark H', 'count': 1}], 'smallest': 'Aboulafia, Sandy'}, 'format': {}}\n",
      "{'id': 75768836, 'name': 'OFFICECD', 'dataTypeName': 'number', 'fieldName': 'officecd', 'position': 5, 'renderTypeName': 'number', 'tableColumnId': 1518994, 'width': 196, 'cachedContents': {'non_null': 284, 'average': '4.700704225352113', 'largest': '5', 'null': 1, 'top': [{'item': '5', 'count': 20}, {'item': '1', 'count': 19}, {'item': '3', 'count': 18}, {'item': '4', 'count': 17}, {'item': '2', 'count': 16}], 'smallest': '1', 'sum': '1335'}, 'format': {}}\n",
      "{'id': 75768837, 'name': 'OFFICEBORO', 'dataTypeName': 'text', 'fieldName': 'officeboro', 'position': 6, 'renderTypeName': 'text', 'tableColumnId': 1518995, 'width': 220, 'cachedContents': {'non_null': 21, 'largest': 'X', 'null': 264, 'top': [{'item': 'OFFICEBORO', 'count': 20}, {'item': 'X', 'count': 19}, {'item': 'M', 'count': 18}, {'item': 'K', 'count': 17}, {'item': 'Q', 'count': 16}, {'item': 'S', 'count': 15}], 'smallest': 'K'}, 'format': {}}\n",
      "{'id': 75768838, 'name': 'OFFICEDIST', 'dataTypeName': 'number', 'fieldName': 'officedist', 'position': 7, 'renderTypeName': 'number', 'tableColumnId': 1518996, 'width': 220, 'cachedContents': {'non_null': 245, 'average': '26.33061224489796', 'largest': '51', 'null': 40, 'top': [{'item': '7', 'count': 20}, {'item': '32', 'count': 19}, {'item': '37', 'count': 18}, {'item': '28', 'count': 17}, {'item': '19', 'count': 16}, {'item': '39', 'count': 15}, {'item': '35', 'count': 14}, {'item': '42', 'count': 13}, {'item': '31', 'count': 12}, {'item': '6', 'count': 11}, {'item': '47', 'count': 10}, {'item': '20', 'count': 9}, {'item': '1', 'count': 8}, {'item': '27', 'count': 7}, {'item': '26', 'count': 6}, {'item': '10', 'count': 5}, {'item': '34', 'count': 4}, {'item': '45', 'count': 3}, {'item': '40', 'count': 2}, {'item': '12', 'count': 1}], 'smallest': '1', 'sum': '6451'}, 'format': {}}\n",
      "{'id': 75768839, 'name': 'CANCLASS', 'dataTypeName': 'text', 'fieldName': 'canclass', 'position': 8, 'renderTypeName': 'text', 'tableColumnId': 1518997, 'width': 196, 'cachedContents': {'non_null': 285, 'largest': 'P', 'null': 0, 'top': [{'item': 'CANCLASS', 'count': 20}, {'item': 'P', 'count': 19}], 'smallest': 'CANCLASS'}, 'format': {}}\n",
      "{'id': 75768840, 'name': 'PRIMARYPAY', 'dataTypeName': 'number', 'fieldName': 'primarypay', 'position': 9, 'renderTypeName': 'number', 'tableColumnId': 1518998, 'width': 220, 'cachedContents': {'non_null': 284, 'average': '112243.9612676056', 'largest': '2846148.00', 'null': 1, 'top': [{'item': '75350.00', 'count': 20}, {'item': '0', 'count': 19}, {'item': '91333.00', 'count': 18}, {'item': '69780.00', 'count': 17}, {'item': '22172.00', 'count': 16}, {'item': '65356.00', 'count': 15}, {'item': '11423.00', 'count': 14}, {'item': '60152.00', 'count': 13}, {'item': '75040.00', 'count': 12}, {'item': '62436.00', 'count': 11}, {'item': '42075.00', 'count': 10}, {'item': '74920.00', 'count': 9}, {'item': '38088.00', 'count': 8}, {'item': '74850.00', 'count': 7}, {'item': '89502.00', 'count': 6}, {'item': '74350.00', 'count': 5}, {'item': '58348.00', 'count': 4}, {'item': '55100.00', 'count': 3}, {'item': '508893.00', 'count': 2}, {'item': '74750.00', 'count': 1}], 'smallest': '0', 'sum': '31877285.00'}, 'format': {}}\n",
      "{'id': 75768841, 'name': 'GENERALPAY', 'dataTypeName': 'number', 'fieldName': 'generalpay', 'position': 10, 'renderTypeName': 'number', 'tableColumnId': 1518999, 'width': 220, 'cachedContents': {'non_null': 284, 'average': '28753.57394366197', 'largest': '976545.00', 'null': 1, 'top': [{'item': '0', 'count': 20}, {'item': '75350.00', 'count': 19}, {'item': '201131.00', 'count': 18}, {'item': '39760.00', 'count': 17}, {'item': '57796.00', 'count': 16}, {'item': '75200.00', 'count': 15}, {'item': '68234.00', 'count': 14}, {'item': '5732.00', 'count': 13}, {'item': '58488.00', 'count': 12}, {'item': '62184.00', 'count': 11}, {'item': '44748.00', 'count': 10}, {'item': '21946.00', 'count': 9}, {'item': '70500.00', 'count': 8}], 'smallest': '0', 'sum': '8166015.00'}, 'format': {}}\n",
      "{'id': 75768842, 'name': 'RUNOFFPAY', 'dataTypeName': 'number', 'fieldName': 'runoffpay', 'position': 11, 'renderTypeName': 'number', 'tableColumnId': 1519000, 'width': 208, 'cachedContents': {'non_null': 284, 'average': '7776.778169014085', 'largest': '711537.00', 'null': 1, 'top': [{'item': '0', 'count': 20}, {'item': '267331.00', 'count': 19}, {'item': '574387.00', 'count': 18}, {'item': '303270.00', 'count': 17}, {'item': '711537.00', 'count': 16}, {'item': '114407.00', 'count': 15}, {'item': '237673.00', 'count': 14}], 'smallest': '0', 'sum': '2208605.00'}, 'format': {}}\n",
      "{'id': 75768843, 'name': 'TOTALPAY', 'dataTypeName': 'number', 'fieldName': 'totalpay', 'position': 12, 'renderTypeName': 'number', 'tableColumnId': 1519001, 'width': 196, 'cachedContents': {'non_null': 284, 'average': '148774.3133802817', 'largest': '4534230.00', 'null': 1, 'top': [{'item': '0', 'count': 20}, {'item': '75350.00', 'count': 19}, {'item': '150700.00', 'count': 18}, {'item': '2458534.00', 'count': 17}, {'item': '133146.00', 'count': 16}, {'item': '75200.00', 'count': 15}, {'item': '68234.00', 'count': 14}, {'item': '70664.00', 'count': 13}, {'item': '58488.00', 'count': 12}, {'item': '50112.00', 'count': 11}, {'item': '62184.00', 'count': 10}, {'item': '44748.00', 'count': 9}, {'item': '21946.00', 'count': 8}, {'item': '41656.00', 'count': 7}, {'item': '61260.00', 'count': 6}, {'item': '145850.00', 'count': 5}, {'item': '35808.00', 'count': 4}, {'item': '12172.00', 'count': 3}], 'smallest': '0', 'sum': '42251905.00'}, 'format': {}}\n",
      "19\n"
     ]
    }
   ],
   "source": [
    "print(data['meta'].keys())\n",
    "print(data['meta']['view'].keys())\n",
    "print()\n",
    "# for key in data['meta']['view'].keys():\n",
    "#     print(f\"{key}: {data['meta']['view'][key]}\")\n",
    "\n",
    "print(data['meta']['view']['columns'])\n",
    "# for n, column in enumerate(data['meta']['view']['columns']):\n",
    "#     print(data['meta']['view']['columns'][n])\n",
    "print(len(data['meta']['view']['columns']))"
   ]
  },
  {
   "cell_type": "markdown",
   "metadata": {},
   "source": [
    "### Create a DataFrame from your json data\n",
    "The previous two questions previewed one entry from the data object within the json file, as well as the column details associated with that data from the meta entry within the json file. Both should have 19 entries. Create a DataFrame of the data. Be sure to use the information from the meta entry to add appropriate column names to your DataFrame."
   ]
  },
  {
   "cell_type": "code",
   "execution_count": 70,
   "metadata": {},
   "outputs": [
    {
     "ename": "TypeError",
     "evalue": "Index(...) must be called with a collection of some kind, 'TOTALPAY' was passed",
     "output_type": "error",
     "traceback": [
      "\u001b[0;31m\u001b[0m",
      "\u001b[0;31mTypeError\u001b[0mTraceback (most recent call last)",
      "\u001b[0;32m<ipython-input-70-b1fb1fe255a8>\u001b[0m in \u001b[0;36m<module>\u001b[0;34m()\u001b[0m\n\u001b[1;32m      9\u001b[0m \u001b[0;32mfor\u001b[0m \u001b[0mitem\u001b[0m \u001b[0;32min\u001b[0m \u001b[0mdata\u001b[0m\u001b[0;34m[\u001b[0m\u001b[0;34m'meta'\u001b[0m\u001b[0;34m]\u001b[0m\u001b[0;34m[\u001b[0m\u001b[0;34m'view'\u001b[0m\u001b[0;34m]\u001b[0m\u001b[0;34m[\u001b[0m\u001b[0;34m'columns'\u001b[0m\u001b[0;34m]\u001b[0m\u001b[0;34m:\u001b[0m\u001b[0;34m\u001b[0m\u001b[0m\n\u001b[1;32m     10\u001b[0m     \u001b[0mcolumn_names\u001b[0m \u001b[0;34m=\u001b[0m \u001b[0mitem\u001b[0m\u001b[0;34m[\u001b[0m\u001b[0;34m'name'\u001b[0m\u001b[0;34m]\u001b[0m\u001b[0;34m\u001b[0m\u001b[0m\n\u001b[0;32m---> 11\u001b[0;31m \u001b[0mdf\u001b[0m\u001b[0;34m.\u001b[0m\u001b[0mcolumns\u001b[0m \u001b[0;34m=\u001b[0m \u001b[0mcolumn_names\u001b[0m\u001b[0;34m\u001b[0m\u001b[0m\n\u001b[0m\u001b[1;32m     12\u001b[0m \u001b[0;31m# df\u001b[0m\u001b[0;34m\u001b[0m\u001b[0;34m\u001b[0m\u001b[0m\n",
      "\u001b[0;32m/opt/conda/envs/learn-env/lib/python3.6/site-packages/pandas/core/generic.py\u001b[0m in \u001b[0;36m__setattr__\u001b[0;34m(self, name, value)\u001b[0m\n\u001b[1;32m   4387\u001b[0m         \u001b[0;32mtry\u001b[0m\u001b[0;34m:\u001b[0m\u001b[0;34m\u001b[0m\u001b[0m\n\u001b[1;32m   4388\u001b[0m             \u001b[0mobject\u001b[0m\u001b[0;34m.\u001b[0m\u001b[0m__getattribute__\u001b[0m\u001b[0;34m(\u001b[0m\u001b[0mself\u001b[0m\u001b[0;34m,\u001b[0m \u001b[0mname\u001b[0m\u001b[0;34m)\u001b[0m\u001b[0;34m\u001b[0m\u001b[0m\n\u001b[0;32m-> 4389\u001b[0;31m             \u001b[0;32mreturn\u001b[0m \u001b[0mobject\u001b[0m\u001b[0;34m.\u001b[0m\u001b[0m__setattr__\u001b[0m\u001b[0;34m(\u001b[0m\u001b[0mself\u001b[0m\u001b[0;34m,\u001b[0m \u001b[0mname\u001b[0m\u001b[0;34m,\u001b[0m \u001b[0mvalue\u001b[0m\u001b[0;34m)\u001b[0m\u001b[0;34m\u001b[0m\u001b[0m\n\u001b[0m\u001b[1;32m   4390\u001b[0m         \u001b[0;32mexcept\u001b[0m \u001b[0mAttributeError\u001b[0m\u001b[0;34m:\u001b[0m\u001b[0;34m\u001b[0m\u001b[0m\n\u001b[1;32m   4391\u001b[0m             \u001b[0;32mpass\u001b[0m\u001b[0;34m\u001b[0m\u001b[0m\n",
      "\u001b[0;32mpandas/_libs/properties.pyx\u001b[0m in \u001b[0;36mpandas._libs.properties.AxisProperty.__set__\u001b[0;34m()\u001b[0m\n",
      "\u001b[0;32m/opt/conda/envs/learn-env/lib/python3.6/site-packages/pandas/core/generic.py\u001b[0m in \u001b[0;36m_set_axis\u001b[0;34m(self, axis, labels)\u001b[0m\n\u001b[1;32m    644\u001b[0m \u001b[0;34m\u001b[0m\u001b[0m\n\u001b[1;32m    645\u001b[0m     \u001b[0;32mdef\u001b[0m \u001b[0m_set_axis\u001b[0m\u001b[0;34m(\u001b[0m\u001b[0mself\u001b[0m\u001b[0;34m,\u001b[0m \u001b[0maxis\u001b[0m\u001b[0;34m,\u001b[0m \u001b[0mlabels\u001b[0m\u001b[0;34m)\u001b[0m\u001b[0;34m:\u001b[0m\u001b[0;34m\u001b[0m\u001b[0m\n\u001b[0;32m--> 646\u001b[0;31m         \u001b[0mself\u001b[0m\u001b[0;34m.\u001b[0m\u001b[0m_data\u001b[0m\u001b[0;34m.\u001b[0m\u001b[0mset_axis\u001b[0m\u001b[0;34m(\u001b[0m\u001b[0maxis\u001b[0m\u001b[0;34m,\u001b[0m \u001b[0mlabels\u001b[0m\u001b[0;34m)\u001b[0m\u001b[0;34m\u001b[0m\u001b[0m\n\u001b[0m\u001b[1;32m    647\u001b[0m         \u001b[0mself\u001b[0m\u001b[0;34m.\u001b[0m\u001b[0m_clear_item_cache\u001b[0m\u001b[0;34m(\u001b[0m\u001b[0;34m)\u001b[0m\u001b[0;34m\u001b[0m\u001b[0m\n\u001b[1;32m    648\u001b[0m \u001b[0;34m\u001b[0m\u001b[0m\n",
      "\u001b[0;32m/opt/conda/envs/learn-env/lib/python3.6/site-packages/pandas/core/internals.py\u001b[0m in \u001b[0;36mset_axis\u001b[0;34m(self, axis, new_labels)\u001b[0m\n\u001b[1;32m   3314\u001b[0m \u001b[0;34m\u001b[0m\u001b[0m\n\u001b[1;32m   3315\u001b[0m     \u001b[0;32mdef\u001b[0m \u001b[0mset_axis\u001b[0m\u001b[0;34m(\u001b[0m\u001b[0mself\u001b[0m\u001b[0;34m,\u001b[0m \u001b[0maxis\u001b[0m\u001b[0;34m,\u001b[0m \u001b[0mnew_labels\u001b[0m\u001b[0;34m)\u001b[0m\u001b[0;34m:\u001b[0m\u001b[0;34m\u001b[0m\u001b[0m\n\u001b[0;32m-> 3316\u001b[0;31m         \u001b[0mnew_labels\u001b[0m \u001b[0;34m=\u001b[0m \u001b[0m_ensure_index\u001b[0m\u001b[0;34m(\u001b[0m\u001b[0mnew_labels\u001b[0m\u001b[0;34m)\u001b[0m\u001b[0;34m\u001b[0m\u001b[0m\n\u001b[0m\u001b[1;32m   3317\u001b[0m         \u001b[0mold_len\u001b[0m \u001b[0;34m=\u001b[0m \u001b[0mlen\u001b[0m\u001b[0;34m(\u001b[0m\u001b[0mself\u001b[0m\u001b[0;34m.\u001b[0m\u001b[0maxes\u001b[0m\u001b[0;34m[\u001b[0m\u001b[0maxis\u001b[0m\u001b[0;34m]\u001b[0m\u001b[0;34m)\u001b[0m\u001b[0;34m\u001b[0m\u001b[0m\n\u001b[1;32m   3318\u001b[0m         \u001b[0mnew_len\u001b[0m \u001b[0;34m=\u001b[0m \u001b[0mlen\u001b[0m\u001b[0;34m(\u001b[0m\u001b[0mnew_labels\u001b[0m\u001b[0;34m)\u001b[0m\u001b[0;34m\u001b[0m\u001b[0m\n",
      "\u001b[0;32m/opt/conda/envs/learn-env/lib/python3.6/site-packages/pandas/core/indexes/base.py\u001b[0m in \u001b[0;36m_ensure_index\u001b[0;34m(index_like, copy)\u001b[0m\n\u001b[1;32m   4972\u001b[0m             \u001b[0mindex_like\u001b[0m \u001b[0;34m=\u001b[0m \u001b[0mcopy\u001b[0m\u001b[0;34m(\u001b[0m\u001b[0mindex_like\u001b[0m\u001b[0;34m)\u001b[0m\u001b[0;34m\u001b[0m\u001b[0m\n\u001b[1;32m   4973\u001b[0m \u001b[0;34m\u001b[0m\u001b[0m\n\u001b[0;32m-> 4974\u001b[0;31m     \u001b[0;32mreturn\u001b[0m \u001b[0mIndex\u001b[0m\u001b[0;34m(\u001b[0m\u001b[0mindex_like\u001b[0m\u001b[0;34m)\u001b[0m\u001b[0;34m\u001b[0m\u001b[0m\n\u001b[0m\u001b[1;32m   4975\u001b[0m \u001b[0;34m\u001b[0m\u001b[0m\n\u001b[1;32m   4976\u001b[0m \u001b[0;34m\u001b[0m\u001b[0m\n",
      "\u001b[0;32m/opt/conda/envs/learn-env/lib/python3.6/site-packages/pandas/core/indexes/base.py\u001b[0m in \u001b[0;36m__new__\u001b[0;34m(cls, data, dtype, copy, name, fastpath, tupleize_cols, **kwargs)\u001b[0m\n\u001b[1;32m    435\u001b[0m                          **kwargs)\n\u001b[1;32m    436\u001b[0m         \u001b[0;32melif\u001b[0m \u001b[0mdata\u001b[0m \u001b[0;32mis\u001b[0m \u001b[0;32mNone\u001b[0m \u001b[0;32mor\u001b[0m \u001b[0mis_scalar\u001b[0m\u001b[0;34m(\u001b[0m\u001b[0mdata\u001b[0m\u001b[0;34m)\u001b[0m\u001b[0;34m:\u001b[0m\u001b[0;34m\u001b[0m\u001b[0m\n\u001b[0;32m--> 437\u001b[0;31m             \u001b[0mcls\u001b[0m\u001b[0;34m.\u001b[0m\u001b[0m_scalar_data_error\u001b[0m\u001b[0;34m(\u001b[0m\u001b[0mdata\u001b[0m\u001b[0;34m)\u001b[0m\u001b[0;34m\u001b[0m\u001b[0m\n\u001b[0m\u001b[1;32m    438\u001b[0m         \u001b[0;32melse\u001b[0m\u001b[0;34m:\u001b[0m\u001b[0;34m\u001b[0m\u001b[0m\n\u001b[1;32m    439\u001b[0m             \u001b[0;32mif\u001b[0m \u001b[0mtupleize_cols\u001b[0m \u001b[0;32mand\u001b[0m \u001b[0mis_list_like\u001b[0m\u001b[0;34m(\u001b[0m\u001b[0mdata\u001b[0m\u001b[0;34m)\u001b[0m\u001b[0;34m:\u001b[0m\u001b[0;34m\u001b[0m\u001b[0m\n",
      "\u001b[0;32m/opt/conda/envs/learn-env/lib/python3.6/site-packages/pandas/core/indexes/base.py\u001b[0m in \u001b[0;36m_scalar_data_error\u001b[0;34m(cls, data)\u001b[0m\n\u001b[1;32m    895\u001b[0m         raise TypeError('{0}(...) must be called with a collection of some '\n\u001b[1;32m    896\u001b[0m                         'kind, {1} was passed'.format(cls.__name__,\n\u001b[0;32m--> 897\u001b[0;31m                                                       repr(data)))\n\u001b[0m\u001b[1;32m    898\u001b[0m \u001b[0;34m\u001b[0m\u001b[0m\n\u001b[1;32m    899\u001b[0m     \u001b[0;34m@\u001b[0m\u001b[0mclassmethod\u001b[0m\u001b[0;34m\u001b[0m\u001b[0m\n",
      "\u001b[0;31mTypeError\u001b[0m: Index(...) must be called with a collection of some kind, 'TOTALPAY' was passed"
     ]
    }
   ],
   "source": [
    "#Your code here\n",
    "# list_of_dict = \n",
    "# for row in data['data']:\n",
    "    \n",
    "# pd.zip()\n",
    "df = pd.DataFrame(data['data'])\n",
    "len(df)\n",
    "df\n",
    "for item in data['meta']['view']['columns']:\n",
    "    column_names = item['name']\n",
    "# df.columns = column_names\n",
    "print(column_)\n",
    "df"
   ]
  },
  {
   "cell_type": "markdown",
   "metadata": {},
   "source": [
    "### What's wrong with the first row of the DataFrame?"
   ]
  },
  {
   "cell_type": "code",
   "execution_count": null,
   "metadata": {},
   "outputs": [],
   "source": [
    "#Your code here"
   ]
  },
  {
   "cell_type": "markdown",
   "metadata": {},
   "source": [
    "#Your answer here"
   ]
  },
  {
   "cell_type": "markdown",
   "metadata": {},
   "source": [
    "## Summary\n",
    "\n",
    "Congratulations! You've started exploring some more complicated data structures used for the web and got to practice data munging and exploring!"
   ]
  }
 ],
 "metadata": {
  "kernelspec": {
   "display_name": "Python 3",
   "language": "python",
   "name": "python3"
  },
  "language_info": {
   "codemirror_mode": {
    "name": "ipython",
    "version": 3
   },
   "file_extension": ".py",
   "mimetype": "text/x-python",
   "name": "python",
   "nbconvert_exporter": "python",
   "pygments_lexer": "ipython3",
   "version": "3.6.6"
  }
 },
 "nbformat": 4,
 "nbformat_minor": 2
}
